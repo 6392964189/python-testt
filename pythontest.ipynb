{
 "cells": [
  {
   "cell_type": "markdown",
   "metadata": {},
   "source": [
    "1. a"
   ]
  },
  {
   "cell_type": "markdown",
   "metadata": {},
   "source": [
    "2. a"
   ]
  },
  {
   "cell_type": "markdown",
   "metadata": {},
   "source": [
    "3. a"
   ]
  },
  {
   "cell_type": "code",
   "execution_count": null,
   "metadata": {},
   "outputs": [],
   "source": [
    "4. b"
   ]
  },
  {
   "cell_type": "markdown",
   "metadata": {},
   "source": [
    "5. a"
   ]
  },
  {
   "cell_type": "markdown",
   "metadata": {},
   "source": [
    "6. b"
   ]
  },
  {
   "cell_type": "markdown",
   "metadata": {},
   "source": [
    "7.b"
   ]
  },
  {
   "cell_type": "markdown",
   "metadata": {},
   "source": [
    "8.a"
   ]
  },
  {
   "cell_type": "markdown",
   "metadata": {},
   "source": [
    "9.c"
   ]
  },
  {
   "cell_type": "markdown",
   "metadata": {},
   "source": [
    "10.d"
   ]
  },
  {
   "cell_type": "markdown",
   "metadata": {},
   "source": [
    "11.b"
   ]
  },
  {
   "cell_type": "markdown",
   "metadata": {},
   "source": [
    "12.b"
   ]
  },
  {
   "cell_type": "code",
   "execution_count": null,
   "metadata": {},
   "outputs": [],
   "source": [
    "13.a"
   ]
  },
  {
   "cell_type": "code",
   "execution_count": null,
   "metadata": {},
   "outputs": [],
   "source": [
    "14.b"
   ]
  },
  {
   "cell_type": "markdown",
   "metadata": {},
   "source": [
    "15.d"
   ]
  },
  {
   "cell_type": "markdown",
   "metadata": {},
   "source": [
    "16.b"
   ]
  },
  {
   "cell_type": "code",
   "execution_count": null,
   "metadata": {},
   "outputs": [],
   "source": [
    "17.a"
   ]
  },
  {
   "cell_type": "markdown",
   "metadata": {},
   "source": [
    "18.b"
   ]
  },
  {
   "cell_type": "code",
   "execution_count": null,
   "metadata": {},
   "outputs": [],
   "source": [
    "19.c"
   ]
  },
  {
   "cell_type": "markdown",
   "metadata": {},
   "source": [
    "20.b"
   ]
  },
  {
   "cell_type": "markdown",
   "metadata": {},
   "source": [
    "21.a"
   ]
  },
  {
   "cell_type": "markdown",
   "metadata": {},
   "source": [
    "22.b"
   ]
  },
  {
   "cell_type": "markdown",
   "metadata": {},
   "source": [
    "23.a"
   ]
  },
  {
   "cell_type": "markdown",
   "metadata": {},
   "source": [
    "24.a"
   ]
  },
  {
   "cell_type": "markdown",
   "metadata": {},
   "source": [
    "25.b"
   ]
  },
  {
   "cell_type": "markdown",
   "metadata": {},
   "source": [
    "26.a"
   ]
  },
  {
   "cell_type": "markdown",
   "metadata": {},
   "source": [
    "27.d"
   ]
  },
  {
   "cell_type": "markdown",
   "metadata": {},
   "source": [
    "2.1"
   ]
  },
  {
   "cell_type": "code",
   "execution_count": 4,
   "metadata": {},
   "outputs": [
    {
     "name": "stdout",
     "output_type": "stream",
     "text": [
      "John - Performance Score: 86.0\n",
      "Alice - Performance Score: 92.0\n"
     ]
    }
   ],
   "source": [
    "def calculate_performance_scores(employees):\n",
    "    performance_results = []\n",
    "\n",
    "    for employee in employees:\n",
    "        name = employee['name']\n",
    "        scores = employee['scores']\n",
    "        weights = employee['weights']\n",
    "\n",
    "        total_score = sum(scores[criterion] * weights[criterion] for criterion in scores)\n",
    "\n",
    "        performance_result = {\n",
    "            'name': name,\n",
    "            'performance_score': total_score\n",
    "        }\n",
    "\n",
    "        performance_results.append(performance_result)\n",
    "\n",
    "    return performance_results\n",
    "\n",
    "# Example how to take and solve problems\n",
    "employees = [\n",
    "    {\n",
    "        'name': 'John',\n",
    "        'scores': {'Quality of Work': 90, 'Team Collaboration': 80},\n",
    "        'weights': {'Quality of Work': 0.6, 'Team Collaboration': 0.4}\n",
    "    },\n",
    "    {\n",
    "        'name': 'Alice',\n",
    "        'scores': {'Quality of Work': 95, 'Team Collaboration': 85},\n",
    "        'weights': {'Quality of Work': 0.7, 'Team Collaboration': 0.3}\n",
    "    },\n",
    "]\n",
    "\n",
    "performance_results = calculate_performance_scores(employees)\n",
    "\n",
    "for result in performance_results:\n",
    "    print(f\"{result['name']} - Performance Score: {result['performance_score']}\")\n"
   ]
  },
  {
   "cell_type": "code",
   "execution_count": null,
   "metadata": {},
   "outputs": [],
   "source": [
    "2.4"
   ]
  },
  {
   "cell_type": "code",
   "execution_count": 5,
   "metadata": {},
   "outputs": [],
   "source": [
    "import heapq\n",
    "\n",
    "def find_kth_number(N, prime_numbers, K):\n",
    "    heap = prime_numbers.copy()\n",
    "    heapq.heapify(heap)\n",
    "\n",
    "    for _ in range(K - 1):\n",
    "        smallest = heapq.heappop(heap)\n",
    "        for prime in prime_numbers:\n",
    "            heapq.heappush(heap, smallest * prime)\n",
    "\n",
    "    return heapq.heappop(heap)"
   ]
  },
  {
   "cell_type": "markdown",
   "metadata": {},
   "source": [
    "2.6"
   ]
  },
  {
   "cell_type": "code",
   "execution_count": 6,
   "metadata": {},
   "outputs": [],
   "source": [
    "def max_subarray_sum(arr, n):\n",
    "    max_sum = arr[0]  \n",
    "    current_sum = arr[0] \n",
    "\n",
    "    for i in range(1, n):\n",
    "\n",
    "        current_sum = max(arr[i], current_sum + arr[i])\n",
    "\n",
    "        max_sum = max(max_sum, current_sum)\n",
    "\n",
    "    return max_sum"
   ]
  },
  {
   "cell_type": "markdown",
   "metadata": {},
   "source": [
    "2.10"
   ]
  },
  {
   "cell_type": "code",
   "execution_count": null,
   "metadata": {},
   "outputs": [],
   "source": [
    "from collections import defaultdict, deque\n",
    "\n",
    "def find_ladders(beginWord, endWord, wordList):\n",
    "    # Create a set for faster word lookup\n",
    "    wordSet = set(wordList)\n",
    "\n",
    "    # Check if endWord is not in wordList\n",
    "    if endWord not in wordSet:\n",
    "        return []\n",
    "\n",
    "    # Create a dictionary to store transformations\n",
    "    transformations = defaultdict(list)\n",
    "    transformations[beginWord] = [[beginWord]]\n",
    "\n",
    "    \n",
    "    queue = deque()\n",
    "    queue.append(beginWord)\n",
    "    found = False\n",
    "\n",
    "    while queue:\n",
    "        level_size = len(queue)\n",
    "        level_words = set()\n",
    "\n",
    "        for _ in range(level_size):\n",
    "            current_word = queue.popleft()\n",
    "\n",
    "            for i in range(len(current_word)):\n",
    "                for char in 'abcdefghijklmnopqrstuvwxyz':\n",
    "                    next_word = current_word[:i] + char + current_word[i+1:]\n",
    "\n",
    "                    if next_word in wordSet:\n",
    "                        if next_word == endWord:\n",
    "                            found = True\n",
    "\n",
    "                        for path in transformations[current_word]:\n",
    "                            transformations[next_word].append(path + [next_word])\n",
    "                        \n",
    "                        if next_word not in level_words:\n",
    "                            queue.append(next_word)\n",
    "                            level_words.add(next_word)\n",
    "\n",
    "        if found:\n",
    "            break\n",
    "\n",
    "    return transformations.get(endWord, [])\n",
    "\n",
    "# Example usage:\n",
    "beginWord = \"hit\"\n",
    "endWord = \"cog\"\n",
    "wordList = [\"hot\", \"dot\", \"dog\", \"lot\", \"log\", \"cog\"]\n",
    "result = find_ladders(beginWord, endWord, wordList)\n",
    "print(result)\n"
   ]
  },
  {
   "cell_type": "markdown",
   "metadata": {},
   "source": [
    "2.7"
   ]
  },
  {
   "cell_type": "code",
   "execution_count": null,
   "metadata": {},
   "outputs": [],
   "source": [
    "def longest_common_subsequence(s1, s2):\n",
    "    m, n = len(s1), len(s2)\n",
    "\n",
    "    \n",
    "    dp = [[0] * (n + 1) for _ in range(m + 1)]\n",
    "\n",
    "    for i in range(1, m + 1):\n",
    "        for j in range(1, n + 1):\n",
    "            if s1[i - 1] == s2[j - 1]:\n",
    "                dp[i][j] = dp[i - 1][j - 1] + 1\n",
    "            else:\n",
    "                dp[i][j] = max(dp[i - 1][j], dp[i][j - 1])\n",
    "\n",
    "    return dp[m][n]"
   ]
  },
  {
   "cell_type": "markdown",
   "metadata": {},
   "source": [
    "2.9"
   ]
  },
  {
   "cell_type": "code",
   "execution_count": null,
   "metadata": {},
   "outputs": [],
   "source": [
    "def is_valid(board, row, col, num):\n",
    "\n",
    "    for i in range(9):\n",
    "        if board[row][i] == num or board[i][col] == num:\n",
    "            return False\n",
    "\n",
    "    start_row, start_col = 3 * (row // 3), 3 * (col // 3)\n",
    "    for i in range(start_row, start_row + 3):\n",
    "        for j in range(start_col, start_col + 3):\n",
    "            if board[i][j] == num:\n",
    "                return False\n",
    "\n",
    "    return True\n",
    "\n",
    "def solve_sudoku(board):\n",
    "    for row in range(9):\n",
    "        for col in range(9):\n",
    "            if board[row][col] == 0:\n",
    "                for num in map(str, range(1, 10)):\n",
    "                    if is_valid(board, row, col, num):\n",
    "                        board[row][col] = num\n",
    "                        if solve_sudoku(board):\n",
    "                            return True\n",
    "                        board[row][col] = 0 \n",
    "                return False  \n",
    "    return True\n",
    "\n",
    "# Example \n",
    "sudoku_board = [\n",
    "    [5, 3, 0, 0, 7, 0, 0, 0, 0],\n",
    "    [6, 0, 0, 1, 9, 5, 0, 0, 0],\n",
    "    [0, 9, 8, 0, 0, 0, 0, 6, 0],\n",
    "    [8, 0, 0, 0, 6, 0, 0, 0, 3],\n",
    "    [4, 0, 0, 8, 0, 3, 0, 0, 1],\n",
    "    [7, 0, 0, 0, 2, 0, 0, 0, 6],\n",
    "    [0, 6, 0, 0, 0, 0, 2, 8, 0],\n",
    "    [0, 0, 0, 4, 1, 9, 0, 0, 5],\n",
    "    [0, 0, 0, 0, 8, 0, 0, 7, 9]\n",
    "]\n",
    "\n",
    "solve_sudoku(sudoku_board)\n",
    "for row in sudoku_board:\n",
    "    print(row)\n"
   ]
  },
  {
   "cell_type": "markdown",
   "metadata": {},
   "source": [
    "2.8"
   ]
  },
  {
   "cell_type": "code",
   "execution_count": null,
   "metadata": {},
   "outputs": [],
   "source": [
    "def spiral_order(matrix):\n",
    "    if not matrix:\n",
    "        return []\n",
    "\n",
    "    result = []\n",
    "    top, bottom, left, right = 0, len(matrix) - 1, 0, len(matrix[0]) - 1\n",
    "\n",
    "    while top <= bottom and left <= right:\n",
    "    \n",
    "        for col in range(left, right + 1):\n",
    "            result.append(matrix[top][col])\n",
    "        top += 1\n",
    "\n",
    "        \n",
    "        for row in range(top, bottom + 1):\n",
    "            result.append(matrix[row][right])\n",
    "        right -= 1\n",
    "\n",
    "    \n",
    "        if top <= bottom and left <= right:\n",
    "            \n",
    "            for col in range(right, left - 1, -1):\n",
    "                result.append(matrix[bottom][col])\n",
    "            bottom -= 1\n",
    "\n",
    "        \n",
    "            for row in range(bottom, top - 1, -1):\n",
    "                result.append(matrix[row][left])\n",
    "            left += 1\n",
    "\n",
    "    return result\n",
    "\n",
    "# Examplle\n",
    "matrix = [\n",
    "    [1, 2, 3],\n",
    "    [4, 5, 6],\n",
    "    [7, 8, 9]\n",
    "]\n",
    "result = spiral_order(matrix)\n",
    "print(result)  \n"
   ]
  },
  {
   "cell_type": "code",
   "execution_count": null,
   "metadata": {},
   "outputs": [],
   "source": [
    "2.7"
   ]
  },
  {
   "cell_type": "code",
   "execution_count": null,
   "metadata": {},
   "outputs": [],
   "source": [
    "def longest_common_subsequence(s1, s2):\n",
    "    m, n = len(s1), len(s2)\n",
    "\n",
    "\n",
    "    dp = [[0] * (n + 1) for _ in range(m + 1)]\n",
    "\n",
    "    for i in range(1, m + 1):\n",
    "        for j in range(1, n + 1):\n",
    "            if s1[i - 1] == s2[j - 1]:\n",
    "                dp[i][j] = dp[i - 1][j - 1] + 1\n",
    "            else:\n",
    "                dp[i][j] = max(dp[i - 1][j], dp[i][j - 1])\n",
    "    return dp[m][n]\n",
    "\n",
    "# Example \n",
    "s1 = \"AGGTAB\"\n",
    "s2 = \"GXTXAYB\"\n",
    "result = longest_common_subsequence(s1, s2)\n",
    "print(result)  \n"
   ]
  },
  {
   "cell_type": "code",
   "execution_count": null,
   "metadata": {},
   "outputs": [],
   "source": [
    "2.3"
   ]
  },
  {
   "cell_type": "code",
   "execution_count": null,
   "metadata": {},
   "outputs": [],
   "source": [
    "def sort_employees_by_id(employees):\n",
    "    sorted_employees = sorted(employees, key=lambda x: x['id'])\n",
    "    return sorted_employees\n",
    "\n",
    "def sort_employees_by_salary(employees):\n",
    "    sorted_employees = sorted(employees, key=lambda x: x['salary'], reverse=True)\n",
    "    return sorted_employees\n",
    "\n",
    "# Example \n",
    "employees = [\n",
    "    {\"id\": 101, \"name\": \"John\", \"salary\": 60000},\n",
    "    {\"id\": 103, \"name\": \"Alice\", \"salary\": 75000},\n",
    "    {\"id\": 102, \"name\": \"Bob\", \"salary\": 65000},\n",
    "    \n",
    "]\n",
    "\n",
    "\n",
    "sorted_by_id = sort_employees_by_id(employees)\n",
    "print(\"Sorted by id:\")\n",
    "for employee in sorted_by_id:\n",
    "    print(employee)\n",
    "\n",
    "sorted_by_salary = sort_employees_by_salary(employees)\n",
    "print(\"\\nSorted by salary:\")\n",
    "for employee in sorted_by_salary:\n",
    "    print(employee)\n"
   ]
  }
 ],
 "metadata": {
  "kernelspec": {
   "display_name": "Python 3",
   "language": "python",
   "name": "python3"
  },
  "language_info": {
   "codemirror_mode": {
    "name": "ipython",
    "version": 3
   },
   "file_extension": ".py",
   "mimetype": "text/x-python",
   "name": "python",
   "nbconvert_exporter": "python",
   "pygments_lexer": "ipython3",
   "version": "3.11.2"
  },
  "orig_nbformat": 4
 },
 "nbformat": 4,
 "nbformat_minor": 2
}
